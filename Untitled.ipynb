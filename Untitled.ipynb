{
 "cells": [
  {
   "cell_type": "code",
   "execution_count": 110,
   "id": "b8e37332",
   "metadata": {},
   "outputs": [],
   "source": [
    "def toggle(b):\n",
    "    if b == \"0\":\n",
    "        return \"1\"\n",
    "    else:\n",
    "        return \"0\""
   ]
  },
  {
   "cell_type": "code",
   "execution_count": 111,
   "id": "a7c2be6a",
   "metadata": {},
   "outputs": [],
   "source": [
    "def bin_to_string(seq):\n",
    "    bin_tab = [chr(int(seq[index:index+8],2)) for index in range(0,len(seq),8)]\n",
    "    return \"\".join(x for x in bin_tab)"
   ]
  },
  {
   "cell_type": "code",
   "execution_count": 112,
   "id": "097975e2",
   "metadata": {},
   "outputs": [],
   "source": [
    "def encrypter(text,key=\"\"):\n",
    "    current_key = key\n",
    "    text = \"\".join(format(x,'08b') for x in bytes(text,'ascii'))\n",
    "    new_text = \"\"\n",
    "    \n",
    "    for i in range(len(text)):\n",
    "        current_key = abs(hash(str(current_key)))\n",
    "        if current_key%2 == 0:\n",
    "            new_text += toggle(text[i])\n",
    "        else:\n",
    "            new_text += text[i]\n",
    "            \n",
    "    return bin_to_string(new_text)"
   ]
  },
  {
   "cell_type": "code",
   "execution_count": 113,
   "id": "ff677a0b",
   "metadata": {},
   "outputs": [
    {
     "data": {
      "text/plain": [
       "'S\\x88jx\\rðè\\x99Û¥(\\x9fÞ\\x8b'"
      ]
     },
     "execution_count": 113,
     "metadata": {},
     "output_type": "execute_result"
    }
   ],
   "source": [
    "decrypter(encrypter(\"toavina pe\"))"
   ]
  },
  {
   "cell_type": "code",
   "execution_count": 115,
   "id": "95914f37",
   "metadata": {},
   "outputs": [],
   "source": [
    "def decrypter(text,key=\"\"):\n",
    "    current_key = key\n",
    "    new_text = \"\"\n",
    "    for i in range(len(text)):\n",
    "        current_key = abs(hash(str(current_key)))\n",
    "        if current_key%2 == 0:\n",
    "            new_text += toggle(text[i])\n",
    "        else:\n",
    "            new_text += text[i]\n",
    "            \n",
    "    return bin_to_string(new_text)"
   ]
  },
  {
   "cell_type": "code",
   "execution_count": 102,
   "id": "cc1b0c6c",
   "metadata": {},
   "outputs": [
    {
     "ename": "NameError",
     "evalue": "name 'new_text' is not defined",
     "output_type": "error",
     "traceback": [
      "\u001b[1;31m---------------------------------------------------------------------------\u001b[0m",
      "\u001b[1;31mNameError\u001b[0m                                 Traceback (most recent call last)",
      "\u001b[1;32m~\\AppData\\Local\\Temp/ipykernel_6284/3143315824.py\u001b[0m in \u001b[0;36m<module>\u001b[1;34m\u001b[0m\n\u001b[0;32m      1\u001b[0m \u001b[1;32mfor\u001b[0m \u001b[0mindex\u001b[0m \u001b[1;32min\u001b[0m \u001b[0mrange\u001b[0m\u001b[1;33m(\u001b[0m\u001b[1;36m0\u001b[0m\u001b[1;33m,\u001b[0m\u001b[0mlen\u001b[0m\u001b[1;33m(\u001b[0m\u001b[0mtext\u001b[0m\u001b[1;33m)\u001b[0m\u001b[1;33m,\u001b[0m\u001b[1;36m8\u001b[0m\u001b[1;33m)\u001b[0m\u001b[1;33m:\u001b[0m\u001b[1;33m\u001b[0m\u001b[1;33m\u001b[0m\u001b[0m\n\u001b[1;32m----> 2\u001b[1;33m         \u001b[0mnew_text\u001b[0m \u001b[1;33m+=\u001b[0m \u001b[0mchr\u001b[0m\u001b[1;33m(\u001b[0m\u001b[0mint\u001b[0m\u001b[1;33m(\u001b[0m\u001b[0mtext\u001b[0m\u001b[1;33m[\u001b[0m\u001b[0mindex\u001b[0m\u001b[1;33m:\u001b[0m\u001b[0mindex\u001b[0m\u001b[1;33m+\u001b[0m\u001b[1;36m8\u001b[0m\u001b[1;33m]\u001b[0m\u001b[1;33m,\u001b[0m\u001b[1;36m2\u001b[0m\u001b[1;33m)\u001b[0m\u001b[1;33m)\u001b[0m\u001b[1;33m\u001b[0m\u001b[1;33m\u001b[0m\u001b[0m\n\u001b[0m",
      "\u001b[1;31mNameError\u001b[0m: name 'new_text' is not defined"
     ]
    }
   ],
   "source": [
    "for index in range(0,len(text),8):\n",
    "        new_text += chr(int(text[index:index+8],2))"
   ]
  },
  {
   "cell_type": "code",
   "execution_count": 103,
   "id": "1f2d56d3",
   "metadata": {},
   "outputs": [
    {
     "name": "stdout",
     "output_type": "stream",
     "text": [
      "0\n",
      "1\n",
      "1\n",
      "0\n",
      "1\n",
      "0\n",
      "1\n",
      "0\n",
      "1\n",
      "1\n",
      "0\n",
      "1\n",
      "1\n",
      "0\n",
      "0\n",
      "1\n",
      "1\n",
      "1\n",
      "1\n",
      "0\n",
      "0\n",
      "0\n",
      "1\n",
      "1\n",
      "0\n",
      "1\n",
      "0\n",
      "0\n",
      "1\n",
      "1\n",
      "0\n",
      "1\n",
      "0\n",
      "0\n",
      "0\n",
      "1\n",
      "1\n",
      "1\n",
      "1\n",
      "0\n",
      "0\n",
      "0\n",
      "1\n",
      "0\n",
      "1\n",
      "0\n",
      "1\n",
      "1\n",
      "0\n",
      "0\n",
      "1\n",
      "0\n",
      "1\n",
      "0\n",
      "0\n",
      "0\n",
      "0\n",
      "1\n",
      "1\n",
      "0\n",
      "0\n",
      "1\n",
      "0\n",
      "0\n",
      "1\n",
      "1\n",
      "0\n",
      "0\n",
      "0\n",
      "0\n",
      "1\n",
      "1\n",
      "0\n",
      "1\n",
      "1\n",
      "0\n",
      "0\n",
      "0\n",
      "0\n",
      "1\n",
      "0\n",
      "1\n",
      "1\n",
      "1\n",
      "1\n",
      "0\n",
      "1\n",
      "1\n",
      "1\n",
      "0\n",
      "1\n",
      "1\n",
      "0\n",
      "0\n",
      "0\n",
      "1\n",
      "0\n",
      "1\n",
      "0\n",
      "1\n"
     ]
    }
   ],
   "source": [
    "generate_from_key(\"bithmaty\")"
   ]
  },
  {
   "cell_type": "code",
   "execution_count": 92,
   "id": "944c5559",
   "metadata": {},
   "outputs": [
    {
     "data": {
      "text/plain": [
       "'toavina pe'"
      ]
     },
     "execution_count": 92,
     "metadata": {},
     "output_type": "execute_result"
    }
   ],
   "source": [
    "bin_to_string(\"01110100011011110110000101110110011010010110111001100001001000000111000001100101\")"
   ]
  },
  {
   "cell_type": "code",
   "execution_count": null,
   "id": "739e4a94",
   "metadata": {},
   "outputs": [],
   "source": []
  }
 ],
 "metadata": {
  "kernelspec": {
   "display_name": "Python 3 (ipykernel)",
   "language": "python",
   "name": "python3"
  },
  "language_info": {
   "codemirror_mode": {
    "name": "ipython",
    "version": 3
   },
   "file_extension": ".py",
   "mimetype": "text/x-python",
   "name": "python",
   "nbconvert_exporter": "python",
   "pygments_lexer": "ipython3",
   "version": "3.9.6"
  }
 },
 "nbformat": 4,
 "nbformat_minor": 5
}
